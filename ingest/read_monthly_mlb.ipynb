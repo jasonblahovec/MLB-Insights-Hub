{
 "cells": [
  {
   "cell_type": "code",
   "execution_count": 4,
   "id": "f0987b27",
   "metadata": {},
   "outputs": [
    {
     "name": "stdout",
     "output_type": "stream",
     "text": [
      "Combined data saved in C:/Users/jason/Projects/mlb_data\\combined_data\n"
     ]
    }
   ],
   "source": [
    "import os\n",
    "import pandas as pd\n",
    "\n",
    "def load_and_save_mlb_data(data_directory):\n",
    "    # Initialize empty DataFrames for each category\n",
    "    team_pitching = pd.DataFrame()\n",
    "    team_batting = pd.DataFrame()\n",
    "    individual_pitching = pd.DataFrame()\n",
    "    individual_batting = pd.DataFrame()\n",
    "    mlb_games = pd.DataFrame()\n",
    "\n",
    "    # Define the categories\n",
    "    categories = ['team_pitching', 'team_batting', 'individual_pitching', 'individual_batting', 'mlb_games']\n",
    "\n",
    "    # Iterate through each year directory\n",
    "    for year in os.listdir(data_directory):\n",
    "        year_path = os.path.join(data_directory, year)\n",
    "        if os.path.isdir(year_path):\n",
    "            for category in categories:\n",
    "                category_path = os.path.join(year_path, category)\n",
    "                if os.path.isdir(category_path):\n",
    "                    for csv_file in os.listdir(category_path):\n",
    "                        csv_path = os.path.join(category_path, csv_file)\n",
    "                        if os.path.isfile(csv_path) and csv_path.endswith('.csv'):\n",
    "                            df = pd.read_csv(csv_path)\n",
    "                            if category == 'team_pitching':\n",
    "                                team_pitching = pd.concat([team_pitching, df], ignore_index=True)\n",
    "                            elif category == 'team_batting':\n",
    "                                team_batting = pd.concat([team_batting, df], ignore_index=True)\n",
    "                            elif category == 'individual_pitching':\n",
    "                                individual_pitching = pd.concat([individual_pitching, df], ignore_index=True)\n",
    "                            elif category == 'individual_batting':\n",
    "                                individual_batting = pd.concat([individual_batting, df], ignore_index=True)\n",
    "                            elif category == 'mlb_games':\n",
    "                                mlb_games = pd.concat([mlb_games, df], ignore_index=True)\n",
    "\n",
    "    # Create a subfolder for combined data\n",
    "    combined_data_directory = os.path.join(data_directory, 'combined_data')\n",
    "    os.makedirs(combined_data_directory, exist_ok=True)\n",
    "\n",
    "    # Save the combined DataFrames to CSV files in the combined data directory\n",
    "    team_pitching.to_csv(os.path.join(combined_data_directory, 'team_pitching.csv'), index=False)\n",
    "    team_batting.to_csv(os.path.join(combined_data_directory, 'team_batting.csv'), index=False)\n",
    "    individual_pitching.to_csv(os.path.join(combined_data_directory, 'individual_pitching.csv'), index=False)\n",
    "    individual_batting.to_csv(os.path.join(combined_data_directory, 'individual_batting.csv'), index=False)\n",
    "    mlb_games.to_csv(os.path.join(combined_data_directory, 'mlb_games.csv'), index=False)\n",
    "\n",
    "    print(f\"Combined data saved in {combined_data_directory}\")\n",
    "\n",
    "# Example usage:\n",
    "data_directory = 'C:/Users/jason/Projects/mlb_data'\n",
    "load_and_save_mlb_data(data_directory)\n"
   ]
  },
  {
   "cell_type": "code",
   "execution_count": null,
   "id": "18b53361",
   "metadata": {},
   "outputs": [],
   "source": []
  }
 ],
 "metadata": {
  "kernelspec": {
   "display_name": "Python 3 (ipykernel)",
   "language": "python",
   "name": "python3"
  },
  "language_info": {
   "codemirror_mode": {
    "name": "ipython",
    "version": 3
   },
   "file_extension": ".py",
   "mimetype": "text/x-python",
   "name": "python",
   "nbconvert_exporter": "python",
   "pygments_lexer": "ipython3",
   "version": "3.11.5"
  }
 },
 "nbformat": 4,
 "nbformat_minor": 5
}
